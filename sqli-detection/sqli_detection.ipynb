{
 "cells": [
  {
   "cell_type": "markdown",
   "metadata": {
    "colab_type": "text",
    "id": "view-in-github"
   },
   "source": [
    "<a href=\"https://colab.research.google.com/github/shreekanthsenthil/SQL-Injection-Detection/blob/master/sqli_detection.ipynb\" target=\"_parent\"><img src=\"https://colab.research.google.com/assets/colab-badge.svg\" alt=\"Open In Colab\"/></a>"
   ]
  },
  {
   "cell_type": "code",
   "execution_count": 2,
   "metadata": {
    "colab": {
     "base_uri": "https://localhost:8080/",
     "height": 641
    },
    "colab_type": "code",
    "id": "txjbMhjQTkZR",
    "outputId": "a510a461-184c-47ad-ac7e-4d4f1f6899c5"
   },
   "outputs": [],
   "source": [
    "import pandas as pd\n",
    "import numpy as np\n",
    "import tensorflow_hub as hub\n",
    "# import tensorflow_datasets as tfds\n",
    "import tensorflow as tf\n",
    "from sklearn.utils import shuffle\n",
    "from sklearn import preprocessing , neighbors ,svm\n",
    "from sklearn.preprocessing import LabelEncoder, StandardScaler\n",
    "from sklearn.model_selection import train_test_split"
   ]
  },
  {
   "cell_type": "code",
   "execution_count": 3,
   "metadata": {
    "colab": {},
    "colab_type": "code",
    "id": "IwB7CSHOUKB4"
   },
   "outputs": [],
   "source": [
    "sql = pd.read_csv('Data/sql.csv')\n",
    "password = pd.read_csv('Data/password.csv')\n",
    "username = pd.read_csv('Data/username.csv')\n",
    "sqli = pd.read_csv('Data/sqli.csv')"
   ]
  },
  {
   "cell_type": "code",
   "execution_count": 4,
   "metadata": {
    "colab": {},
    "colab_type": "code",
    "id": "jE72jUbwUs0i"
   },
   "outputs": [],
   "source": [
    "username.dropna(axis=0,how=\"all\",inplace=True)\n",
    "password.dropna(axis=0,how=\"all\",inplace=True)\n",
    "username.reset_index(drop = True,inplace=True)\n",
    "password.reset_index(drop = True,inplace=True)"
   ]
  },
  {
   "cell_type": "code",
   "execution_count": 5,
   "metadata": {
    "colab": {},
    "colab_type": "code",
    "id": "ZJ8VOAFaVhcP"
   },
   "outputs": [],
   "source": [
    "def leng(df,col,len_col):\n",
    "  for i in range(len(df)):\n",
    "    cl = df[col][i]\n",
    "    length = len(str(cl))\n",
    "    df[len_col][i] = length\n",
    "  return df"
   ]
  },
  {
   "cell_type": "code",
   "execution_count": 6,
   "metadata": {
    "colab": {
     "base_uri": "https://localhost:8080/",
     "height": 109
    },
    "colab_type": "code",
    "id": "oLtRTk2zW2qw",
    "outputId": "10577208-c02d-4b14-d4f1-02c443257ed1"
   },
   "outputs": [
    {
     "name": "stderr",
     "output_type": "stream",
     "text": [
      "C:\\Users\\Hamza\\anaconda3\\envs\\hello-tf\\lib\\site-packages\\ipykernel_launcher.py:5: SettingWithCopyWarning: \n",
      "A value is trying to be set on a copy of a slice from a DataFrame\n",
      "\n",
      "See the caveats in the documentation: https://pandas.pydata.org/pandas-docs/stable/user_guide/indexing.html#returning-a-view-versus-a-copy\n",
      "  \"\"\"\n"
     ]
    }
   ],
   "source": [
    "username = leng(username, 'Query','Length')\n",
    "password = leng(password, 'Query','Length')\n",
    "sql = leng(sql, 'Query','Length')"
   ]
  },
  {
   "cell_type": "code",
   "execution_count": 7,
   "metadata": {
    "colab": {},
    "colab_type": "code",
    "id": "f1cZBMmJaYuQ"
   },
   "outputs": [],
   "source": [
    "username['Label'] = 'username'\n",
    "password['Label'] = 'password'\n",
    "sqli['Label'] = 'sqli'\n",
    "sql['Label'] = 'sql'"
   ]
  },
  {
   "cell_type": "code",
   "execution_count": 8,
   "metadata": {
    "colab": {},
    "colab_type": "code",
    "id": "q8JCFU8jc5Ui"
   },
   "outputs": [],
   "source": [
    "sqli.drop(['Attack'],axis=1,inplace=True)\n",
    "username.drop(['Attack'],axis=1,inplace=True)\n",
    "password.drop(['Attack'],axis=1,inplace=True)\n",
    "sql.drop(['Attack'],axis=1,inplace=True)"
   ]
  },
  {
   "cell_type": "code",
   "execution_count": 9,
   "metadata": {
    "colab": {},
    "colab_type": "code",
    "id": "6RxSYMo7d5w3"
   },
   "outputs": [],
   "source": [
    "df = pd.concat([sqli,sql,username,password])\n",
    "# df = shuffle(df)/\n",
    "df.reset_index(drop=True,inplace=True)"
   ]
  },
  {
   "cell_type": "code",
   "execution_count": 10,
   "metadata": {
    "colab": {},
    "colab_type": "code",
    "id": "8HuA-S9bepPr"
   },
   "outputs": [],
   "source": [
    "def cal_puncndop(df,col,punop_col,l):\n",
    "  df1 = df[[col]].copy()\n",
    "  for i, query in enumerate(df[col]):\n",
    "    count = 0\n",
    "    li = list(query)\n",
    "    for ch in range(len(query)):\n",
    "      if query[ch] in l:\n",
    "        li [ch] = \" \"\n",
    "        #df[col][i] = \"\".join(li)\n",
    "        count = count+1\n",
    "    df1[col][i] = \"\".join(li)\n",
    "    #print((\"\".join(li)))\n",
    "    df[punop_col][i] = count\n",
    "  df[col] = df1[col]\n",
    "  return df  "
   ]
  },
  {
   "cell_type": "code",
   "execution_count": 11,
   "metadata": {
    "colab": {
     "base_uri": "https://localhost:8080/",
     "height": 298
    },
    "colab_type": "code",
    "id": "gRU3bgdBfU6K",
    "outputId": "39af0d1b-ac9c-4180-f668-4271f6111f26"
   },
   "outputs": [
    {
     "name": "stderr",
     "output_type": "stream",
     "text": [
      "C:\\Users\\Hamza\\anaconda3\\envs\\hello-tf\\lib\\site-packages\\ipykernel_launcher.py:13: SettingWithCopyWarning: \n",
      "A value is trying to be set on a copy of a slice from a DataFrame\n",
      "\n",
      "See the caveats in the documentation: https://pandas.pydata.org/pandas-docs/stable/user_guide/indexing.html#returning-a-view-versus-a-copy\n",
      "  del sys.path[0]\n"
     ]
    },
    {
     "data": {
      "text/html": [
       "<div>\n",
       "<style scoped>\n",
       "    .dataframe tbody tr th:only-of-type {\n",
       "        vertical-align: middle;\n",
       "    }\n",
       "\n",
       "    .dataframe tbody tr th {\n",
       "        vertical-align: top;\n",
       "    }\n",
       "\n",
       "    .dataframe thead th {\n",
       "        text-align: right;\n",
       "    }\n",
       "</style>\n",
       "<table border=\"1\" class=\"dataframe\">\n",
       "  <thead>\n",
       "    <tr style=\"text-align: right;\">\n",
       "      <th></th>\n",
       "      <th>Query</th>\n",
       "      <th>Length</th>\n",
       "      <th>Label</th>\n",
       "      <th>punctuation</th>\n",
       "    </tr>\n",
       "  </thead>\n",
       "  <tbody>\n",
       "    <tr>\n",
       "      <th>0</th>\n",
       "      <td>1  where 6406=6406 select count *  from rdb$fi...</td>\n",
       "      <td>115.0</td>\n",
       "      <td>sqli</td>\n",
       "      <td>9</td>\n",
       "    </tr>\n",
       "    <tr>\n",
       "      <th>1</th>\n",
       "      <td>1  and 8514= select count *  from domain domai...</td>\n",
       "      <td>111.0</td>\n",
       "      <td>sqli</td>\n",
       "      <td>11</td>\n",
       "    </tr>\n",
       "    <tr>\n",
       "      <th>2</th>\n",
       "      <td>3136%   or 3400=6002</td>\n",
       "      <td>21.0</td>\n",
       "      <td>sqli</td>\n",
       "      <td>3</td>\n",
       "    </tr>\n",
       "    <tr>\n",
       "      <th>3</th>\n",
       "      <td>1  where 7956=7956 or sleep 5 #</td>\n",
       "      <td>31.0</td>\n",
       "      <td>sqli</td>\n",
       "      <td>3</td>\n",
       "    </tr>\n",
       "    <tr>\n",
       "      <th>4</th>\n",
       "      <td>7387     order by 1</td>\n",
       "      <td>22.0</td>\n",
       "      <td>sqli</td>\n",
       "      <td>7</td>\n",
       "    </tr>\n",
       "  </tbody>\n",
       "</table>\n",
       "</div>"
      ],
      "text/plain": [
       "                                               Query  Length Label  \\\n",
       "0  1  where 6406=6406 select count *  from rdb$fi...   115.0  sqli   \n",
       "1  1  and 8514= select count *  from domain domai...   111.0  sqli   \n",
       "2                               3136%   or 3400=6002    21.0  sqli   \n",
       "3                    1  where 7956=7956 or sleep 5 #    31.0  sqli   \n",
       "4                              7387     order by 1      22.0  sqli   \n",
       "\n",
       "   punctuation  \n",
       "0            9  \n",
       "1           11  \n",
       "2            3  \n",
       "3            3  \n",
       "4            7  "
      ]
     },
     "execution_count": 11,
     "metadata": {},
     "output_type": "execute_result"
    }
   ],
   "source": [
    "df['punctuation'] = 0\n",
    "#df['operator'] = 0\n",
    "df=cal_puncndop(df,'Query','punctuation',['!', \",\" ,\"\\'\" ,\";\" ,\"\\\"\", \".\", \"-\" ,\"?\",\"[\",\"]\",\")\",\"(\"])\n",
    "#df=cal_puncndop(df,'Query','operator',[\"<\",\">\", \"<=\", \">=\", \"=\", \"==\", \"!=\", \"<<\", \">>\", \"|\", \"&\", \"-\", \"+\", \"%\", \"^\", \"*\"]) #should * be included becoz count(*) !!!\n",
    "df.head()"
   ]
  },
  {
   "cell_type": "code",
   "execution_count": 12,
   "metadata": {
    "colab": {},
    "colab_type": "code",
    "id": "gACEkYsqE6Uy"
   },
   "outputs": [],
   "source": [
    "def cal_keyword(df,col,key_col,l):\n",
    "  for i, query in enumerate(df[col]):\n",
    "    count = 0\n",
    "    query = query.lower()\n",
    "    words = query.split()\n",
    "    for word in words:\n",
    "      if word in l:\n",
    "        count = count+1\n",
    "    df[key_col][i] = count\n",
    "\n",
    "  return df"
   ]
  },
  {
   "cell_type": "code",
   "execution_count": 13,
   "metadata": {
    "colab": {
     "base_uri": "https://localhost:8080/",
     "height": 298
    },
    "colab_type": "code",
    "id": "je6TZ34vGcIj",
    "outputId": "34c5ff33-1468-4770-8ce5-63473c0903e2"
   },
   "outputs": [
    {
     "name": "stderr",
     "output_type": "stream",
     "text": [
      "C:\\Users\\Hamza\\anaconda3\\envs\\hello-tf\\lib\\site-packages\\ipykernel_launcher.py:9: SettingWithCopyWarning: \n",
      "A value is trying to be set on a copy of a slice from a DataFrame\n",
      "\n",
      "See the caveats in the documentation: https://pandas.pydata.org/pandas-docs/stable/user_guide/indexing.html#returning-a-view-versus-a-copy\n",
      "  if __name__ == '__main__':\n"
     ]
    },
    {
     "data": {
      "text/html": [
       "<div>\n",
       "<style scoped>\n",
       "    .dataframe tbody tr th:only-of-type {\n",
       "        vertical-align: middle;\n",
       "    }\n",
       "\n",
       "    .dataframe tbody tr th {\n",
       "        vertical-align: top;\n",
       "    }\n",
       "\n",
       "    .dataframe thead th {\n",
       "        text-align: right;\n",
       "    }\n",
       "</style>\n",
       "<table border=\"1\" class=\"dataframe\">\n",
       "  <thead>\n",
       "    <tr style=\"text-align: right;\">\n",
       "      <th></th>\n",
       "      <th>Query</th>\n",
       "      <th>Length</th>\n",
       "      <th>Label</th>\n",
       "      <th>punctuation</th>\n",
       "      <th>keyword</th>\n",
       "    </tr>\n",
       "  </thead>\n",
       "  <tbody>\n",
       "    <tr>\n",
       "      <th>0</th>\n",
       "      <td>1  where 6406=6406 select count *  from rdb$fi...</td>\n",
       "      <td>115.0</td>\n",
       "      <td>sqli</td>\n",
       "      <td>9</td>\n",
       "      <td>3</td>\n",
       "    </tr>\n",
       "    <tr>\n",
       "      <th>1</th>\n",
       "      <td>1  and 8514= select count *  from domain domai...</td>\n",
       "      <td>111.0</td>\n",
       "      <td>sqli</td>\n",
       "      <td>11</td>\n",
       "      <td>2</td>\n",
       "    </tr>\n",
       "    <tr>\n",
       "      <th>2</th>\n",
       "      <td>3136%   or 3400=6002</td>\n",
       "      <td>21.0</td>\n",
       "      <td>sqli</td>\n",
       "      <td>3</td>\n",
       "      <td>0</td>\n",
       "    </tr>\n",
       "    <tr>\n",
       "      <th>3</th>\n",
       "      <td>1  where 7956=7956 or sleep 5 #</td>\n",
       "      <td>31.0</td>\n",
       "      <td>sqli</td>\n",
       "      <td>3</td>\n",
       "      <td>2</td>\n",
       "    </tr>\n",
       "    <tr>\n",
       "      <th>4</th>\n",
       "      <td>7387     order by 1</td>\n",
       "      <td>22.0</td>\n",
       "      <td>sqli</td>\n",
       "      <td>7</td>\n",
       "      <td>1</td>\n",
       "    </tr>\n",
       "  </tbody>\n",
       "</table>\n",
       "</div>"
      ],
      "text/plain": [
       "                                               Query  Length Label  \\\n",
       "0  1  where 6406=6406 select count *  from rdb$fi...   115.0  sqli   \n",
       "1  1  and 8514= select count *  from domain domai...   111.0  sqli   \n",
       "2                               3136%   or 3400=6002    21.0  sqli   \n",
       "3                    1  where 7956=7956 or sleep 5 #    31.0  sqli   \n",
       "4                              7387     order by 1      22.0  sqli   \n",
       "\n",
       "   punctuation  keyword  \n",
       "0            9        3  \n",
       "1           11        2  \n",
       "2            3        0  \n",
       "3            3        2  \n",
       "4            7        1  "
      ]
     },
     "execution_count": 13,
     "metadata": {},
     "output_type": "execute_result"
    }
   ],
   "source": [
    "df['keyword'] = 0\n",
    "df = cal_keyword(df, 'Query', 'keyword', [\"select\", \"update\", \"insert\", \"create\", \"drop\", \"alter\", \"rename\", \"exec\", \"order\", \"group\", \"sleep\",\"count\",\"where\"])\n",
    "df.head()"
   ]
  },
  {
   "cell_type": "code",
   "execution_count": 14,
   "metadata": {
    "colab": {
     "base_uri": "https://localhost:8080/",
     "height": 109
    },
    "colab_type": "code",
    "id": "VCJSxIipbArt",
    "outputId": "0bfc6cb3-9cc5-4374-c49b-ffc4b9ea4a80"
   },
   "outputs": [
    {
     "name": "stderr",
     "output_type": "stream",
     "text": [
      "C:\\Users\\Hamza\\anaconda3\\envs\\hello-tf\\lib\\site-packages\\ipykernel_launcher.py:3: SettingWithCopyWarning: \n",
      "A value is trying to be set on a copy of a slice from a DataFrame\n",
      "\n",
      "See the caveats in the documentation: https://pandas.pydata.org/pandas-docs/stable/user_guide/indexing.html#returning-a-view-versus-a-copy\n",
      "  This is separate from the ipykernel package so we can avoid doing imports until\n"
     ]
    }
   ],
   "source": [
    "for i,label in enumerate(df['Label']):\n",
    "  if label in ['sql','username','password']:\n",
    "    df['Label'][i] = 'non-sqli'"
   ]
  },
  {
   "cell_type": "code",
   "execution_count": 15,
   "metadata": {
    "colab": {
     "base_uri": "https://localhost:8080/",
     "height": 35
    },
    "colab_type": "code",
    "id": "b-dnXEytaanp",
    "outputId": "9a8862ff-9b63-4e40-bd1f-8e18dbfb3e0f"
   },
   "outputs": [
    {
     "name": "stdout",
     "output_type": "stream",
     "text": [
      "The  Label is encoded \n"
     ]
    }
   ],
   "source": [
    "def scale_data(df, column_list):\n",
    "    for column in column_list:\n",
    "        df[column] = df[column].astype('float')\n",
    "        encoder = preprocessing.StandardScaler()\n",
    "        df[column] = encoder.fit_transform(df[column].values.reshape(-1,1))\n",
    "        print(\"The \",column, \"is encoded\")\n",
    "    return(df)\n",
    "  \n",
    "def encode_categorical(df, column_list):\n",
    "    for column in column_list:\n",
    "        df[column] = df[column].astype('str')\n",
    "        encoder = preprocessing.LabelEncoder()\n",
    "        encoded_list = encoder.fit_transform(df[column])\n",
    "#         print(encoded_list)\n",
    "#         print(len(encoded_list))\n",
    "        encoded_series = pd.Series(encoded_list)\n",
    "        df[column] = encoded_series\n",
    "        print(\"The \", column, \"is encoded \")\n",
    "    return(df)\n",
    "\n",
    "df = encode_categorical(df,['Label'])"
   ]
  },
  {
   "cell_type": "code",
   "execution_count": 16,
   "metadata": {
    "colab": {
     "base_uri": "https://localhost:8080/",
     "height": 1000
    },
    "colab_type": "code",
    "id": "700wGTUcZyKZ",
    "outputId": "a491fd90-28b6-47f6-94fc-d17e97e89d57"
   },
   "outputs": [],
   "source": [
    "# import pandas_profiling as pp\n",
    "# pp.ProfileReport(df)"
   ]
  },
  {
   "cell_type": "code",
   "execution_count": 17,
   "metadata": {
    "colab": {
     "base_uri": "https://localhost:8080/",
     "height": 54
    },
    "colab_type": "code",
    "id": "EL68z-lsbkWQ",
    "outputId": "88b1d58c-33ad-4de9-bff8-544cecb6a98b",
    "scrolled": true
   },
   "outputs": [
    {
     "name": "stdout",
     "output_type": "stream",
     "text": [
      "12887\n",
      "[1 1 1 ... 0 0 0]\n"
     ]
    }
   ],
   "source": [
    "X = np.array(df.drop(labels=['Label', 'Query'],axis=1)).reshape(len(df),1,3)\n",
    "print(len(X))\n",
    "\n",
    "y = np.array(df['Label'])\n",
    "print(y)"
   ]
  },
  {
   "cell_type": "code",
   "execution_count": 18,
   "metadata": {
    "colab": {},
    "colab_type": "code",
    "id": "9JKkbU7o6LK9"
   },
   "outputs": [],
   "source": [
    "X_train, X_test, y_train, y_test = train_test_split(X, y, test_size=0.2, random_state=42)\n"
   ]
  },
  {
   "cell_type": "code",
   "execution_count": 19,
   "metadata": {
    "colab": {},
    "colab_type": "code",
    "id": "hkIFleyQ7Zvs"
   },
   "outputs": [],
   "source": [
    "train_dataset = tf.data.Dataset.from_tensor_slices((X_train, y_train))\n",
    "test_dataset = tf.data.Dataset.from_tensor_slices((X_test, y_test))"
   ]
  },
  {
   "cell_type": "code",
   "execution_count": 20,
   "metadata": {
    "colab": {},
    "colab_type": "code",
    "id": "-P_8SQ4A7pLP"
   },
   "outputs": [],
   "source": [
    "BATCH_SIZE = 64\n",
    "SHUFFLE_BUFFER_SIZE = 100\n",
    "\n",
    "train_dataset = train_dataset.shuffle(SHUFFLE_BUFFER_SIZE).batch(BATCH_SIZE)\n",
    "test_dataset = test_dataset.batch(BATCH_SIZE)\n"
   ]
  },
  {
   "cell_type": "code",
   "execution_count": 21,
   "metadata": {
    "colab": {},
    "colab_type": "code",
    "id": "9t3E-d_O7r_h"
   },
   "outputs": [],
   "source": [
    "# embedding = \"https://tfhub.dev/google/tf2-preview/gnews-swivel-20dim/1\"\n",
    "# hub_layer = hub.KerasLayer(embedding, input_shape=[], \n",
    "#                            dtype=tf.string, trainable=True)"
   ]
  },
  {
   "cell_type": "code",
   "execution_count": 22,
   "metadata": {
    "colab": {
     "base_uri": "https://localhost:8080/",
     "height": 274
    },
    "colab_type": "code",
    "id": "t7jcYLp-7yd1",
    "outputId": "7bc9888e-1c2a-49f7-85b7-7cf499427a8b"
   },
   "outputs": [
    {
     "name": "stdout",
     "output_type": "stream",
     "text": [
      "Model: \"sequential\"\n",
      "_________________________________________________________________\n",
      "Layer (type)                 Output Shape              Param #   \n",
      "=================================================================\n",
      "dense (Dense)                (None, None, 20)          80        \n",
      "_________________________________________________________________\n",
      "dense_1 (Dense)              (None, None, 16)          336       \n",
      "_________________________________________________________________\n",
      "dense_2 (Dense)              (None, None, 1)           17        \n",
      "=================================================================\n",
      "Total params: 433\n",
      "Trainable params: 433\n",
      "Non-trainable params: 0\n",
      "_________________________________________________________________\n"
     ]
    }
   ],
   "source": [
    "model = tf.keras.Sequential()\n",
    "model.add(tf.keras.layers.Dense(20, activation='relu', input_shape= (None,3)))\n",
    "model.add(tf.keras.layers.Dense(16, activation='relu'))\n",
    "model.add(tf.keras.layers.Dense(1,activation='sigmoid'))\n",
    "\n",
    "model.summary()"
   ]
  },
  {
   "cell_type": "code",
   "execution_count": 23,
   "metadata": {
    "colab": {},
    "colab_type": "code",
    "id": "OkEJ0jY272XU"
   },
   "outputs": [],
   "source": [
    "model.compile(optimizer='adam',\n",
    "              loss=tf.keras.losses.BinaryCrossentropy(from_logits=True),\n",
    "              metrics=['accuracy'])"
   ]
  },
  {
   "cell_type": "code",
   "execution_count": 24,
   "metadata": {
    "colab": {
     "base_uri": "https://localhost:8080/",
     "height": 770
    },
    "colab_type": "code",
    "id": "T-5TOWAf76mE",
    "outputId": "1d33e4cb-2e90-4309-8ebd-317efe9e89f5"
   },
   "outputs": [
    {
     "name": "stdout",
     "output_type": "stream",
     "text": [
      "Epoch 1/20\n",
      "162/162 [==============================] - 1s 625us/step - loss: 0.4282 - accuracy: 0.9068\n",
      "Epoch 2/20\n",
      "162/162 [==============================] - 0s 596us/step - loss: 0.4008 - accuracy: 0.9964\n",
      "Epoch 3/20\n",
      "162/162 [==============================] - 0s 584us/step - loss: 0.3823 - accuracy: 0.9940\n",
      "Epoch 4/20\n",
      "162/162 [==============================] - 0s 572us/step - loss: 0.3780 - accuracy: 0.9961\n",
      "Epoch 5/20\n",
      "162/162 [==============================] - 0s 584us/step - loss: 0.3766 - accuracy: 0.9972\n",
      "Epoch 6/20\n",
      "162/162 [==============================] - 0s 578us/step - loss: 0.3760 - accuracy: 0.9977\n",
      "Epoch 7/20\n",
      "162/162 [==============================] - 0s 578us/step - loss: 0.3757 - accuracy: 0.9977\n",
      "Epoch 8/20\n",
      "162/162 [==============================] - 0s 609us/step - loss: 0.3755 - accuracy: 0.9977\n",
      "Epoch 9/20\n",
      "162/162 [==============================] - 0s 584us/step - loss: 0.3753 - accuracy: 0.9977\n",
      "Epoch 10/20\n",
      "162/162 [==============================] - 0s 584us/step - loss: 0.3752 - accuracy: 0.9978\n",
      "Epoch 11/20\n",
      "162/162 [==============================] - 0s 584us/step - loss: 0.3752 - accuracy: 0.9978\n",
      "Epoch 12/20\n",
      "162/162 [==============================] - 0s 578us/step - loss: 0.3751 - accuracy: 0.9979\n",
      "Epoch 13/20\n",
      "162/162 [==============================] - 0s 621us/step - loss: 0.3751 - accuracy: 0.9979\n",
      "Epoch 14/20\n",
      "162/162 [==============================] - 0s 578us/step - loss: 0.3751 - accuracy: 0.9979\n",
      "Epoch 15/20\n",
      "162/162 [==============================] - 0s 578us/step - loss: 0.3750 - accuracy: 0.9980\n",
      "Epoch 16/20\n",
      "162/162 [==============================] - 0s 572us/step - loss: 0.3750 - accuracy: 0.9980\n",
      "Epoch 17/20\n",
      "162/162 [==============================] - 0s 584us/step - loss: 0.3750 - accuracy: 0.9982\n",
      "Epoch 18/20\n",
      "162/162 [==============================] - 0s 584us/step - loss: 0.3750 - accuracy: 0.9982\n",
      "Epoch 19/20\n",
      "162/162 [==============================] - 0s 590us/step - loss: 0.3750 - accuracy: 0.9982\n",
      "Epoch 20/20\n",
      "162/162 [==============================] - 0s 584us/step - loss: 0.3750 - accuracy: 0.9982\n"
     ]
    }
   ],
   "source": [
    "history = model.fit(train_dataset,\n",
    "                    epochs=20,\n",
    "                    verbose=1)"
   ]
  },
  {
   "cell_type": "code",
   "execution_count": 32,
   "metadata": {
    "colab": {
     "base_uri": "https://localhost:8080/",
     "height": 54
    },
    "colab_type": "code",
    "id": "dgPpsA4e8ZYX",
    "outputId": "6ce487f3-0b81-4e95-8b7d-025db440b710"
   },
   "outputs": [
    {
     "name": "stdout",
     "output_type": "stream",
     "text": [
      "41/41 [==============================] - 0s 525us/step - loss: 0.3724 - accuracy: 0.9977\n",
      "INFO:tensorflow:Assets written to: sql-injection\\assets\n"
     ]
    }
   ],
   "source": [
    "model.evaluate(test_dataset)\n",
    "# prediction_is=model.predict(test_dataset)\n",
    "# prediction_is[0]\n",
    "model.save(\"sql-injection\")\n",
    "model.save(\"sqli.h5\")"
   ]
  },
  {
   "cell_type": "code",
   "execution_count": 31,
   "metadata": {},
   "outputs": [
    {
     "name": "stdout",
     "output_type": "stream",
     "text": [
      "[[[0.8046003]]]\n"
     ]
    }
   ],
   "source": [
    "\n",
    "new_model=tf.keras.models.load_model(\"sql-injection\")\n",
    "evaluation_string=\"admin' #\"\n",
    "payload={}\n",
    "payload['Query']=evaluation_string\n",
    "payload['Length']=len(evaluation_string)\n",
    "payload['Label']=1\n",
    "payload['Punctuation'] = len([1 for letter in evaluation_string if letter in ['!', \",\" ,\"\\'\" ,\";\" ,\"\\\"\", \".\", \"-\" ,\"?\",\"[\",\"]\",\")\",\"(\"]])\n",
    "payload['Keywords'] = len([1 for keyword in [\"select\", \"update\", \"insert\", \"create\", \"drop\", \"alter\", \"rename\", \"exec\", \"order\", \"group\", \"sleep\",\"count\",\"where\"] if keyword.lower() in evaluation_string.lower()])\n",
    "# payload = pd.DataFrame(payload,columns = ['Length','Punctuation','Keywords'])\n",
    "payload=pd.DataFrame([payload])\n",
    "X = np.array(payload.drop(labels=['Label', 'Query'],axis=1)).reshape(len(payload),1,3)\n",
    "\n",
    "\n",
    "y = np.array(payload['Label'])\n",
    "\n",
    "test_payload = tf.data.Dataset.from_tensor_slices((X, y))\n",
    "test_payload = test_payload.batch(BATCH_SIZE)\n",
    "print(new_model.predict(test_payload))\n",
    "# print(model.predict(test_dataset)[400:405])\n",
    "# print(y_test[400:405])\n",
    "# test_dataset_payload = tf.data.Dataset.from_tensor_slices((payload,1))\n",
    "# test_dataset_payload = test_dataset_payload.batch(BATCH_SIZE)\n",
    "# prediction_is=model.predict(test_dataset_payload)                                                          \n"
   ]
  },
  {
   "cell_type": "code",
   "execution_count": null,
   "metadata": {},
   "outputs": [],
   "source": []
  },
  {
   "cell_type": "code",
   "execution_count": null,
   "metadata": {},
   "outputs": [],
   "source": []
  },
  {
   "cell_type": "code",
   "execution_count": null,
   "metadata": {},
   "outputs": [],
   "source": []
  }
 ],
 "metadata": {
  "colab": {
   "authorship_tag": "ABX9TyOpuHiBcECqlL2ptYLA/bvW",
   "collapsed_sections": [],
   "include_colab_link": true,
   "mount_file_id": "https://github.com/shreekanthsenthil/SQL-Injection-Detection/blob/master/sqli_detection.ipynb",
   "name": "sqli detection.ipynb",
   "provenance": []
  },
  "kernelspec": {
   "display_name": "Python 3",
   "language": "python",
   "name": "python3"
  },
  "language_info": {
   "codemirror_mode": {
    "name": "ipython",
    "version": 3
   },
   "file_extension": ".py",
   "mimetype": "text/x-python",
   "name": "python",
   "nbconvert_exporter": "python",
   "pygments_lexer": "ipython3",
   "version": "3.6.13"
  }
 },
 "nbformat": 4,
 "nbformat_minor": 1
}
