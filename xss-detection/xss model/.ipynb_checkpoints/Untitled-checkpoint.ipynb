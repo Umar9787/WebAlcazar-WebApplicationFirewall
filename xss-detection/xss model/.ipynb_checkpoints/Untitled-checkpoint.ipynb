{
 "cells": [
  {
   "cell_type": "code",
   "execution_count": 1,
   "id": "48a6ba2d",
   "metadata": {},
   "outputs": [],
   "source": [
    "import pandas as pd\n",
    "import numpy as np\n",
    "import tensorflow_hub as hub\n",
    "# import tensorflow_datasets as tfds\n",
    "import tensorflow as tf\n",
    "from sklearn.utils import shuffle\n",
    "from sklearn import preprocessing , neighbors ,svm\n",
    "from sklearn.preprocessing import LabelEncoder, StandardScaler\n",
    "from sklearn.model_selection import train_test_split"
   ]
  },
  {
   "cell_type": "code",
   "execution_count": 35,
   "id": "c9a902b6",
   "metadata": {},
   "outputs": [],
   "source": [
    "def cal_keyword(eval_string,comparison_s):\n",
    "    for i in range(0,len(eval_string)):\n",
    "        if i+len(comparison_s)<len(eval_string):\n",
    "            if eval_string[i]==comparison_s[0]:\n",
    "                \n",
    "                j = i\n",
    "               \n",
    "                for q in range(0,len(comparison_s)):\n",
    "                    if eval_string[j]!=comparison_s[q]:\n",
    "                        break\n",
    "                    \n",
    "                    j+=1\n",
    "                   \n",
    "                if (j-i)==len(comparison_s):\n",
    "                    return 1\n",
    "    \n",
    "    return 0"
   ]
  },
  {
   "cell_type": "code",
   "execution_count": 121,
   "id": "0683742b",
   "metadata": {},
   "outputs": [],
   "source": [
    "def letter_ratio(eval_s):\n",
    "    count = 0.0\n",
    "    for i in range(0,len(eval_s)):\n",
    "        if ord(eval_s[i].lower()) > 96 and ord(eval_s[i].lower()) < 123:\n",
    "            count+=1.0\n",
    "    return count / len(eval_s)\n",
    "def number_ratio(eval_s):\n",
    "    count = 0.0\n",
    "    for i in range(0,len(eval_s)):\n",
    "        if ord(eval_s[i].lower()) > 47 and ord(eval_s[i].lower()) < 58:\n",
    "            count+=1.0\n",
    "    return count / len(eval_s)\n",
    "def symbol_ratio(eval_s):\n",
    "    count = 0.0\n",
    "    for i in range(0,len(eval_s)):\n",
    "        if ord(eval_s[i].lower()) > 32 and ord(eval_s[i].lower()) < 48:\n",
    "            count+=1.0\n",
    "        if ord(eval_s[i].lower()) > 37 and ord(eval_s[i].lower()) < 65:\n",
    "            count+=1.0\n",
    "        if ord(eval_s[i].lower()) > 90 and ord(eval_s[i].lower()) < 97:\n",
    "            count+=1.0\n",
    "        if ord(eval_s[i].lower()) > 122 and ord(eval_s[i].lower()) < 127:\n",
    "            count+=1.0\n",
    "    return count / len(eval_s)"
   ]
  },
  {
   "cell_type": "code",
   "execution_count": 122,
   "id": "0b96c735",
   "metadata": {},
   "outputs": [],
   "source": [
    "evaluation_string=\"http://www.nwce.gov.uk/search_process.php?keyword=%22%3e%3cscript%3ealert%28document.cookie%29%3b%3c<br>%2fscript%3e\""
   ]
  },
  {
   "cell_type": "code",
   "execution_count": 120,
   "id": "e53a9e30",
   "metadata": {
    "scrolled": true
   },
   "outputs": [
    {
     "name": "stdout",
     "output_type": "stream",
     "text": [
      "{'Contains &lt': 0, 'ScriptTag': 1, 'Readable': 1, 'Contains \"><': 0, \"Contains '><\": 0, 'Contains And': 0, 'Contains Percentage': 1, 'Contains Slash': 1, 'Contains BackSlash': 0, 'Contains Plus': 0, 'Contains Document': 1, 'Contains Window': 0, 'Contains Onload': 0, 'Contains Onerror': 0, 'Contains DIV': 0, 'Contains iframe': 0, 'Contains img': 0, 'Contains SRC': 0, 'Contains Var': 0, 'Contains Eval': 0, 'Contains href': 0, 'Contains Cookie': 1, 'Contains StringfromCharCode': 0, 'Contains Single Quote': 0, 'Contains Question Mark': 1, 'Contains Exclamation Mark': 0, 'Contains Semicolon': 0, 'Contains HTTP': 1, 'Contains JS': 0, 'Contains Hash': 0, 'Contains Equal': 1, 'Contains Open Bracket': 0, 'Contains Close Bracket': 0, 'Contains Duble Bracket': 0, 'Contains Dollar': 0, 'Contains Open Parenthesis': 0, 'Contains Close Parenthesis': 0, 'Contains Asterik': 0, 'Contains Comma': 0, 'Contains Hyphen': 0, 'Contains Less Than': 1, 'Contains Greater Than': 1, 'Contains At': 0, 'Contains Underscore': 1, 'Contains Location': 0, 'Contains Search': 1, 'Contains &#': 0, 'Contains Colon': 1, 'Contains Dots': 1, 'Contains Open Brace': 0, 'Contains Close Brace': 0, 'Contains tilde': 0, 'Contains Spase': 0, 'Contains Qution': 0, 'Contains Grave': 0, 'Contains Duble Equals': 0, 'Contains Duble Slash': 1, 'Contains Vertical Bar': 0, 'Contains Power': 0, 'Contains Broken Bar': 0, 'Letters Ratio': '0.68', 'Numbuer Ratio': '0.11', 'Symbols Ratio': '0.38'}\n"
     ]
    }
   ],
   "source": [
    "payload={}\n",
    "payload['Contains &lt']= cal_keyword(evaluation_string,\"&lt\")\n",
    "payload['ScriptTag']=cal_keyword(evaluation_string,\"script\")\n",
    "payload['Readable']=1\n",
    "payload['Contains \"><']=cal_keyword(evaluation_string,\"\\\"><\")\n",
    "payload['Contains \\'><']=cal_keyword(evaluation_string,\"\\'><\")\n",
    "payload['Contains And']=cal_keyword(evaluation_string,\"&\")\n",
    "payload['Contains Percentage']=cal_keyword(evaluation_string,\"%\")\n",
    "payload['Contains Slash']=cal_keyword(evaluation_string,\"/\")\n",
    "payload['Contains BackSlash']=cal_keyword(evaluation_string,\"\\\\\")\n",
    "payload['Contains Plus']=cal_keyword(evaluation_string,\"+\")\n",
    "payload['Contains Document']=cal_keyword(evaluation_string,\"document\")\n",
    "payload['Contains Window']=cal_keyword(evaluation_string,\"window\")\n",
    "payload['Contains Onload']=cal_keyword(evaluation_string,\"onload\")\n",
    "payload['Contains Onerror']=cal_keyword(evaluation_string,\"onerror\")\n",
    "payload['Contains DIV']=cal_keyword(evaluation_string,\"div\")\n",
    "payload['Contains iframe']=cal_keyword(evaluation_string,\"iframe\")\n",
    "payload['Contains img']=cal_keyword(evaluation_string,\"img\")\n",
    "payload['Contains SRC']=cal_keyword(evaluation_string,\"src\")\n",
    "payload['Contains Var']=cal_keyword(evaluation_string,\"var\")\n",
    "payload['Contains Eval']=cal_keyword(evaluation_string,\"eval\")\n",
    "payload['Contains href']=cal_keyword(evaluation_string,\"href\")\n",
    "payload['Contains Cookie']=cal_keyword(evaluation_string,\"cookie\")\n",
    "payload['Contains StringfromCharCode']=cal_keyword(evaluation_string,\"string.fromcharcode\")\n",
    "payload['Contains Single Quote']=cal_keyword(evaluation_string,\"'\")\n",
    "payload['Contains Question Mark']=cal_keyword(evaluation_string,\"?\")\n",
    "payload['Contains Exclamation Mark']=cal_keyword(evaluation_string,\"!\")\n",
    "payload['Contains Semicolon']=cal_keyword(evaluation_string,\";\")\n",
    "payload['Contains HTTP']=cal_keyword(evaluation_string,\"http\")\n",
    "payload['Contains JS']=cal_keyword(evaluation_string,\"jsp\")\n",
    "payload['Contains Hash']=cal_keyword(evaluation_string,\"#\")\n",
    "payload['Contains Equal']=cal_keyword(evaluation_string,\"=\")\n",
    "payload['Contains Open Bracket']=cal_keyword(evaluation_string,\"[\")\n",
    "payload['Contains Close Bracket']=cal_keyword(evaluation_string,\"]\")\n",
    "payload['Contains Duble Bracket']=cal_keyword(evaluation_string,\"[\") * cal_keyword(evaluation_string,\"]\")\n",
    "payload['Contains Dollar']=cal_keyword(evaluation_string,\"$\")\n",
    "payload['Contains Open Parenthesis']=cal_keyword(evaluation_string,\"(\")\n",
    "payload['Contains Close Parenthesis']=cal_keyword(evaluation_string,\"(\")\n",
    "payload['Contains Asterik']=cal_keyword(evaluation_string,\"*\")\n",
    "payload['Contains Comma']=cal_keyword(evaluation_string,\",\")\n",
    "payload['Contains Hyphen']=cal_keyword(evaluation_string,\"-\")\n",
    "payload['Contains Less Than']=cal_keyword(evaluation_string,\"<\")\n",
    "payload['Contains Greater Than']=cal_keyword(evaluation_string,\">\")\n",
    "payload['Contains At']=cal_keyword(evaluation_string,\"@\")\n",
    "payload['Contains Underscore']=cal_keyword(evaluation_string,\"_\")\n",
    "payload['Contains Location']=cal_keyword(evaluation_string,\"location\")\n",
    "payload['Contains Search']=cal_keyword(evaluation_string,\"search\")\n",
    "payload['Contains &#']=cal_keyword(evaluation_string,\"&#\")\n",
    "payload['Contains Colon']=cal_keyword(evaluation_string,\":\")\n",
    "payload['Contains Dots']=cal_keyword(evaluation_string,\".\")\n",
    "payload['Contains Open Brace']=cal_keyword(evaluation_string,\"{\")\n",
    "payload['Contains Close Brace']=cal_keyword(evaluation_string,\"}\")\n",
    "payload['Contains tilde']=cal_keyword(evaluation_string,\"~\")\n",
    "payload['Contains Spase']=cal_keyword(evaluation_string,\" \")\n",
    "payload['Contains Qution']=cal_keyword(evaluation_string,\"\\\"\")\n",
    "payload['Contains Grave']=0\n",
    "payload['Contains Duble Equals']=cal_keyword(evaluation_string,\"==\")\n",
    "payload['Contains Duble Slash']=cal_keyword(evaluation_string,\"//\")\n",
    "payload['Contains Vertical Bar']=cal_keyword(evaluation_string,\"|\")\n",
    "payload['Contains Power']=cal_keyword(evaluation_string,\"^\")\n",
    "payload['Contains Broken Bar']=cal_keyword(evaluation_string,\"¦\")\n",
    "payload['Letters Ratio']=format_float = \"{:.2f}\".format(letter_ratio(evaluation_string))\n",
    "payload['Numbuer Ratio']=format_float = \"{:.2f}\".format(number_ratio(evaluation_string))\n",
    "payload['Symbols Ratio']=format_float = \"{:.2f}\".format(symbol_ratio(evaluation_string))\n",
    "payload['Class']=0\n",
    "print (payload)"
   ]
  },
  {
   "cell_type": "code",
   "execution_count": null,
   "id": "37b4c5ad",
   "metadata": {},
   "outputs": [],
   "source": []
  },
  {
   "cell_type": "code",
   "execution_count": null,
   "id": "d36addf3",
   "metadata": {},
   "outputs": [],
   "source": []
  },
  {
   "cell_type": "code",
   "execution_count": null,
   "id": "01bd9eee",
   "metadata": {},
   "outputs": [],
   "source": []
  },
  {
   "cell_type": "code",
   "execution_count": null,
   "id": "31aa19d6",
   "metadata": {},
   "outputs": [],
   "source": []
  }
 ],
 "metadata": {
  "kernelspec": {
   "display_name": "Python 3",
   "language": "python",
   "name": "python3"
  },
  "language_info": {
   "codemirror_mode": {
    "name": "ipython",
    "version": 3
   },
   "file_extension": ".py",
   "mimetype": "text/x-python",
   "name": "python",
   "nbconvert_exporter": "python",
   "pygments_lexer": "ipython3",
   "version": "3.6.13"
  }
 },
 "nbformat": 4,
 "nbformat_minor": 5
}
