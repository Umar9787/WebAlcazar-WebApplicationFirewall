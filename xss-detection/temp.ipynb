{
 "cells": [
  {
   "cell_type": "code",
   "execution_count": 1,
   "id": "52a60a93",
   "metadata": {},
   "outputs": [],
   "source": [
    "import pandas as pd\n",
    "import numpy as np\n",
    "import tensorflow_hub as hub\n",
    "#import tensorflow_datasets as tfds\n",
    "import tensorflow as tf\n",
    "from sklearn.utils import shuffle\n",
    "from sklearn import preprocessing , neighbors ,svm\n",
    "from sklearn.preprocessing import LabelEncoder, StandardScaler\n",
    "from sklearn.model_selection import train_test_split"
   ]
  },
  {
   "cell_type": "code",
   "execution_count": 61,
   "id": "406c9d6e",
   "metadata": {},
   "outputs": [],
   "source": [
    "xss = pd.read_csv('Data/XSS_dataset.csv')\n",
    "xss = xss.fillna(0)\n",
    "xss.Sentence=xss.Sentence.astype(str)\n",
    "#xss.SentimentText=xss.Label.astype(str)"
   ]
  },
  {
   "cell_type": "code",
   "execution_count": 62,
   "id": "2be26172",
   "metadata": {},
   "outputs": [],
   "source": [
    "def leng(df,col,len_col):\n",
    "  for i in range(len(df)):\n",
    "    cl = df[col][i]\n",
    "    length = len(str(cl))\n",
    "    df[len_col][i] = length\n",
    "  return df"
   ]
  },
  {
   "cell_type": "code",
   "execution_count": 63,
   "id": "c803faf0",
   "metadata": {},
   "outputs": [
    {
     "name": "stderr",
     "output_type": "stream",
     "text": [
      "C:\\Users\\hamza\\anaconda3\\envs\\hello-tf\\lib\\site-packages\\ipykernel_launcher.py:5: SettingWithCopyWarning: \n",
      "A value is trying to be set on a copy of a slice from a DataFrame\n",
      "\n",
      "See the caveats in the documentation: https://pandas.pydata.org/pandas-docs/stable/user_guide/indexing.html#returning-a-view-versus-a-copy\n",
      "  \"\"\"\n"
     ]
    }
   ],
   "source": [
    "xss['Length']=0\n",
    "xss = leng(xss, 'Sentence','Length')"
   ]
  },
  {
   "cell_type": "code",
   "execution_count": 64,
   "id": "28e51ced",
   "metadata": {},
   "outputs": [
    {
     "data": {
      "text/html": [
       "<div>\n",
       "<style scoped>\n",
       "    .dataframe tbody tr th:only-of-type {\n",
       "        vertical-align: middle;\n",
       "    }\n",
       "\n",
       "    .dataframe tbody tr th {\n",
       "        vertical-align: top;\n",
       "    }\n",
       "\n",
       "    .dataframe thead th {\n",
       "        text-align: right;\n",
       "    }\n",
       "</style>\n",
       "<table border=\"1\" class=\"dataframe\">\n",
       "  <thead>\n",
       "    <tr style=\"text-align: right;\">\n",
       "      <th></th>\n",
       "      <th>Sentence</th>\n",
       "      <th>Label</th>\n",
       "      <th>Length</th>\n",
       "    </tr>\n",
       "  </thead>\n",
       "  <tbody>\n",
       "    <tr>\n",
       "      <th>0</th>\n",
       "      <td>&lt;li&gt;&lt;a href=\"/wiki/File:Socrates.png\" class=\"i...</td>\n",
       "      <td>0.0</td>\n",
       "      <td>557</td>\n",
       "    </tr>\n",
       "    <tr>\n",
       "      <th>1</th>\n",
       "      <td>&lt;tt onmouseover=\"alert(1)\"&gt;test&lt;/tt&gt;</td>\n",
       "      <td>1.0</td>\n",
       "      <td>36</td>\n",
       "    </tr>\n",
       "    <tr>\n",
       "      <th>2</th>\n",
       "      <td>\\t &lt;/span&gt; &lt;span class=\"reference-text\"&gt;Steeri...</td>\n",
       "      <td>0.0</td>\n",
       "      <td>233</td>\n",
       "    </tr>\n",
       "    <tr>\n",
       "      <th>3</th>\n",
       "      <td>\\t &lt;/span&gt; &lt;span class=\"reference-text\"&gt;&lt;cite ...</td>\n",
       "      <td>0.0</td>\n",
       "      <td>395</td>\n",
       "    </tr>\n",
       "    <tr>\n",
       "      <th>4</th>\n",
       "      <td>\\t &lt;/span&gt;. &lt;a href=\"/wiki/Digital_object_iden...</td>\n",
       "      <td>0.0</td>\n",
       "      <td>422</td>\n",
       "    </tr>\n",
       "  </tbody>\n",
       "</table>\n",
       "</div>"
      ],
      "text/plain": [
       "                                            Sentence  Label  Length\n",
       "0  <li><a href=\"/wiki/File:Socrates.png\" class=\"i...    0.0     557\n",
       "1               <tt onmouseover=\"alert(1)\">test</tt>    1.0      36\n",
       "2  \\t </span> <span class=\"reference-text\">Steeri...    0.0     233\n",
       "3  \\t </span> <span class=\"reference-text\"><cite ...    0.0     395\n",
       "4  \\t </span>. <a href=\"/wiki/Digital_object_iden...    0.0     422"
      ]
     },
     "execution_count": 64,
     "metadata": {},
     "output_type": "execute_result"
    }
   ],
   "source": [
    "xss.head()\n"
   ]
  },
  {
   "cell_type": "code",
   "execution_count": 65,
   "id": "23d07288",
   "metadata": {},
   "outputs": [],
   "source": [
    "def cal_puncndop(df,col,punop_col,l):\n",
    "    special_characters = ['!', '#','$','%', '.', ':', '&','@','[',']',' ',']','_', '<', '>', '=', '\"', '/', '(', ')']\n",
    "    for i in range(len(df[col])):\n",
    "        count = 0.0\n",
    "        query = df[col][i].lower()\n",
    "        #print(query)\n",
    "        for q in special_characters:\n",
    "          if q in query:\n",
    "            count+=1\n",
    "        df[punop_col][i]=count\n",
    "    return df "
   ]
  },
  {
   "cell_type": "code",
   "execution_count": 66,
   "id": "c14e7876",
   "metadata": {},
   "outputs": [
    {
     "name": "stderr",
     "output_type": "stream",
     "text": [
      "C:\\Users\\hamza\\anaconda3\\envs\\hello-tf\\lib\\site-packages\\ipykernel_launcher.py:10: SettingWithCopyWarning: \n",
      "A value is trying to be set on a copy of a slice from a DataFrame\n",
      "\n",
      "See the caveats in the documentation: https://pandas.pydata.org/pandas-docs/stable/user_guide/indexing.html#returning-a-view-versus-a-copy\n",
      "  # Remove the CWD from sys.path while we load stuff.\n"
     ]
    },
    {
     "data": {
      "text/html": [
       "<div>\n",
       "<style scoped>\n",
       "    .dataframe tbody tr th:only-of-type {\n",
       "        vertical-align: middle;\n",
       "    }\n",
       "\n",
       "    .dataframe tbody tr th {\n",
       "        vertical-align: top;\n",
       "    }\n",
       "\n",
       "    .dataframe thead th {\n",
       "        text-align: right;\n",
       "    }\n",
       "</style>\n",
       "<table border=\"1\" class=\"dataframe\">\n",
       "  <thead>\n",
       "    <tr style=\"text-align: right;\">\n",
       "      <th></th>\n",
       "      <th>Sentence</th>\n",
       "      <th>Label</th>\n",
       "      <th>Length</th>\n",
       "      <th>punctuation</th>\n",
       "    </tr>\n",
       "  </thead>\n",
       "  <tbody>\n",
       "    <tr>\n",
       "      <th>0</th>\n",
       "      <td>&lt;li&gt;&lt;a href=\"/wiki/File:Socrates.png\" class=\"i...</td>\n",
       "      <td>0.0</td>\n",
       "      <td>557</td>\n",
       "      <td>10</td>\n",
       "    </tr>\n",
       "    <tr>\n",
       "      <th>1</th>\n",
       "      <td>&lt;tt onmouseover=\"alert(1)\"&gt;test&lt;/tt&gt;</td>\n",
       "      <td>1.0</td>\n",
       "      <td>36</td>\n",
       "      <td>8</td>\n",
       "    </tr>\n",
       "    <tr>\n",
       "      <th>2</th>\n",
       "      <td>\\t &lt;/span&gt; &lt;span class=\"reference-text\"&gt;Steeri...</td>\n",
       "      <td>0.0</td>\n",
       "      <td>233</td>\n",
       "      <td>9</td>\n",
       "    </tr>\n",
       "    <tr>\n",
       "      <th>3</th>\n",
       "      <td>\\t &lt;/span&gt; &lt;span class=\"reference-text\"&gt;&lt;cite ...</td>\n",
       "      <td>0.0</td>\n",
       "      <td>395</td>\n",
       "      <td>10</td>\n",
       "    </tr>\n",
       "    <tr>\n",
       "      <th>4</th>\n",
       "      <td>\\t &lt;/span&gt;. &lt;a href=\"/wiki/Digital_object_iden...</td>\n",
       "      <td>0.0</td>\n",
       "      <td>422</td>\n",
       "      <td>12</td>\n",
       "    </tr>\n",
       "  </tbody>\n",
       "</table>\n",
       "</div>"
      ],
      "text/plain": [
       "                                            Sentence  Label  Length  \\\n",
       "0  <li><a href=\"/wiki/File:Socrates.png\" class=\"i...    0.0     557   \n",
       "1               <tt onmouseover=\"alert(1)\">test</tt>    1.0      36   \n",
       "2  \\t </span> <span class=\"reference-text\">Steeri...    0.0     233   \n",
       "3  \\t </span> <span class=\"reference-text\"><cite ...    0.0     395   \n",
       "4  \\t </span>. <a href=\"/wiki/Digital_object_iden...    0.0     422   \n",
       "\n",
       "   punctuation  \n",
       "0           10  \n",
       "1            8  \n",
       "2            9  \n",
       "3           10  \n",
       "4           12  "
      ]
     },
     "execution_count": 66,
     "metadata": {},
     "output_type": "execute_result"
    }
   ],
   "source": [
    "xss['punctuation'] = 0\n",
    "#df['operator'] = 0\n",
    "xss=cal_puncndop(xss,'Sentence','punctuation',['!', \",\" ,\"\\'\" ,\";\" ,\"\\\"\", \".\", \"-\" ,\"?\",\"[\",\"]\",\")\",\"(\"])\n",
    "#df=cal_puncndop(df,'Query','operator',[\"<\",\">\", \"<=\", \">=\", \"=\", \"==\", \"!=\", \"<<\", \">>\", \"|\", \"&\", \"-\", \"+\", \"%\", \"^\", \"*\"]) #should * be included becoz count(*) !!!\n",
    "xss.head()"
   ]
  },
  {
   "cell_type": "code",
   "execution_count": 80,
   "id": "a3e2c39e",
   "metadata": {},
   "outputs": [],
   "source": [
    "def cal_keyword(df,col,key_col,l):\n",
    "  special_characters = ['!', '#','$','%', '.', ':', '&','@','[',']',' ',']','_', '<', '>', '=', '\"', '/', '(', ')']\n",
    "  for i in range(len(df[col])):\n",
    "    count = 1.0\n",
    "    query = df[col][i].lower()\n",
    "    #print(query)\n",
    "    for q in special_characters:\n",
    "      query = query.replace(q,' ')\n",
    "    #print(query+\"\\n ............................\")\n",
    "    words = query.split()\n",
    "    #print(words)\n",
    "    for word in words:\n",
    "      if word in l:\n",
    "        count = count+1\n",
    "    df[key_col][i] = count\n",
    "  return df"
   ]
  },
  {
   "cell_type": "code",
   "execution_count": 81,
   "id": "2ada6deb",
   "metadata": {
    "scrolled": true
   },
   "outputs": [
    {
     "name": "stderr",
     "output_type": "stream",
     "text": [
      "C:\\Users\\hamza\\anaconda3\\envs\\hello-tf\\lib\\site-packages\\ipykernel_launcher.py:15: SettingWithCopyWarning: \n",
      "A value is trying to be set on a copy of a slice from a DataFrame\n",
      "\n",
      "See the caveats in the documentation: https://pandas.pydata.org/pandas-docs/stable/user_guide/indexing.html#returning-a-view-versus-a-copy\n",
      "  from ipykernel import kernelapp as app\n"
     ]
    },
    {
     "data": {
      "text/html": [
       "<div>\n",
       "<style scoped>\n",
       "    .dataframe tbody tr th:only-of-type {\n",
       "        vertical-align: middle;\n",
       "    }\n",
       "\n",
       "    .dataframe tbody tr th {\n",
       "        vertical-align: top;\n",
       "    }\n",
       "\n",
       "    .dataframe thead th {\n",
       "        text-align: right;\n",
       "    }\n",
       "</style>\n",
       "<table border=\"1\" class=\"dataframe\">\n",
       "  <thead>\n",
       "    <tr style=\"text-align: right;\">\n",
       "      <th></th>\n",
       "      <th>Sentence</th>\n",
       "      <th>Label</th>\n",
       "      <th>Length</th>\n",
       "      <th>punctuation</th>\n",
       "      <th>keyword</th>\n",
       "    </tr>\n",
       "  </thead>\n",
       "  <tbody>\n",
       "    <tr>\n",
       "      <th>0</th>\n",
       "      <td>&lt;li&gt;&lt;a href=\"/wiki/File:Socrates.png\" class=\"i...</td>\n",
       "      <td>0</td>\n",
       "      <td>557</td>\n",
       "      <td>10</td>\n",
       "      <td>8</td>\n",
       "    </tr>\n",
       "    <tr>\n",
       "      <th>1</th>\n",
       "      <td>&lt;tt onmouseover=\"alert(1)\"&gt;test&lt;/tt&gt;</td>\n",
       "      <td>1</td>\n",
       "      <td>36</td>\n",
       "      <td>8</td>\n",
       "      <td>3</td>\n",
       "    </tr>\n",
       "    <tr>\n",
       "      <th>2</th>\n",
       "      <td>\\t &lt;/span&gt; &lt;span class=\"reference-text\"&gt;Steeri...</td>\n",
       "      <td>0</td>\n",
       "      <td>233</td>\n",
       "      <td>9</td>\n",
       "      <td>5</td>\n",
       "    </tr>\n",
       "    <tr>\n",
       "      <th>3</th>\n",
       "      <td>\\t &lt;/span&gt; &lt;span class=\"reference-text\"&gt;&lt;cite ...</td>\n",
       "      <td>0</td>\n",
       "      <td>395</td>\n",
       "      <td>10</td>\n",
       "      <td>4</td>\n",
       "    </tr>\n",
       "    <tr>\n",
       "      <th>4</th>\n",
       "      <td>\\t &lt;/span&gt;. &lt;a href=\"/wiki/Digital_object_iden...</td>\n",
       "      <td>0</td>\n",
       "      <td>422</td>\n",
       "      <td>12</td>\n",
       "      <td>10</td>\n",
       "    </tr>\n",
       "  </tbody>\n",
       "</table>\n",
       "</div>"
      ],
      "text/plain": [
       "                                            Sentence  Label  Length  \\\n",
       "0  <li><a href=\"/wiki/File:Socrates.png\" class=\"i...      0     557   \n",
       "1               <tt onmouseover=\"alert(1)\">test</tt>      1      36   \n",
       "2  \\t </span> <span class=\"reference-text\">Steeri...      0     233   \n",
       "3  \\t </span> <span class=\"reference-text\"><cite ...      0     395   \n",
       "4  \\t </span>. <a href=\"/wiki/Digital_object_iden...      0     422   \n",
       "\n",
       "   punctuation  keyword  \n",
       "0           10        8  \n",
       "1            8        3  \n",
       "2            9        5  \n",
       "3           10        4  \n",
       "4           12       10  "
      ]
     },
     "execution_count": 81,
     "metadata": {},
     "output_type": "execute_result"
    }
   ],
   "source": [
    "xss['keyword'] = 0\n",
    "xss = cal_keyword(xss, 'Sentence', 'keyword', ['alert','onload', 'onmouseover', 'vbscript', 'script', \"src\",\"onactive\",\"onafterscriptexecute\",\"onanimationcancel\",\"onanimationend\",\"onanimationiteration\",\"onanimationstart\",\"onbeforeactive\",\"onbeforedeactivate\",\"onbeforeprint\",\"onbeforescriptexecute\",\"onbeforeunload\",\n",
    "                                              \"onbegin\",\"onblur\",\"onbounce\",\"oncanplay\",\"oncanplaythrouhgh\",\"oncuechange\",\"ondeactivate\",\"ondurationchange\",\"onend\",\"onended\",\"a\",\"href\",\" onmouseleave\"])\n",
    "xss.head()"
   ]
  },
  {
   "cell_type": "code",
   "execution_count": 82,
   "id": "04312582",
   "metadata": {},
   "outputs": [],
   "source": [
    "xss.to_csv('Data/XSS_dataset_processed.csv')"
   ]
  },
  {
   "cell_type": "code",
   "execution_count": 83,
   "id": "e93f2608",
   "metadata": {},
   "outputs": [
    {
     "name": "stdout",
     "output_type": "stream",
     "text": [
      "The  Label is encoded \n"
     ]
    }
   ],
   "source": [
    "def scale_data(df, column_list):\n",
    "    for column in column_list:\n",
    "        df[column] = df[column].astype('float')\n",
    "        encoder = preprocessing.StandardScaler()\n",
    "        df[column] = encoder.fit_transform(df[column].values.reshape(-1,1))\n",
    "        print(\"The \",column, \"is encoded\")\n",
    "    return(df)\n",
    "  \n",
    "def encode_categorical(df, column_list):\n",
    "    for column in column_list:\n",
    "        df[column] = df[column].astype('str')\n",
    "        encoder = preprocessing.LabelEncoder()\n",
    "        encoded_list = encoder.fit_transform(df[column])\n",
    "#         print(encoded_list)\n",
    "#         print(len(encoded_list))\n",
    "        encoded_series = pd.Series(encoded_list)\n",
    "        df[column] = encoded_series\n",
    "        print(\"The \", column, \"is encoded \")\n",
    "    return(df)\n",
    "\n",
    "xss = encode_categorical(xss,['Label'])"
   ]
  },
  {
   "cell_type": "code",
   "execution_count": 84,
   "id": "590a44e2",
   "metadata": {},
   "outputs": [
    {
     "name": "stdout",
     "output_type": "stream",
     "text": [
      "[[[557  10   8]]\n",
      "\n",
      " [[ 36   8   3]]\n",
      "\n",
      " [[233   9   5]]\n",
      "\n",
      " ...\n",
      "\n",
      " [[  6   4   1]]\n",
      "\n",
      " [[ 38   7   2]]\n",
      "\n",
      " [[ 62   8   2]]]\n",
      "[0 1 0 ... 1 1 0]\n"
     ]
    }
   ],
   "source": [
    "X = np.array(xss.drop(labels=['Label', 'Sentence'],axis=1)).reshape(len(xss),1,3)\n",
    "print(X)\n",
    "# y_train = np.asarray(xss.drop(labels=['Label', 'Sentence'],axis=1)).astype('float32').reshape((-1,1))\n",
    "# print(X)\n",
    "y = np.array(xss['Label'])\n",
    "print(y)"
   ]
  },
  {
   "cell_type": "code",
   "execution_count": 90,
   "id": "bd319e4b",
   "metadata": {},
   "outputs": [],
   "source": [
    "X_train, X_test, y_train, y_test = train_test_split(X, y, test_size=0.2, random_state=42)"
   ]
  },
  {
   "cell_type": "code",
   "execution_count": 91,
   "id": "c8d76aca",
   "metadata": {},
   "outputs": [],
   "source": [
    "train_dataset = tf.data.Dataset.from_tensor_slices((X_train, y_train))\n",
    "test_dataset = tf.data.Dataset.from_tensor_slices((X_test, y_test))\n"
   ]
  },
  {
   "cell_type": "code",
   "execution_count": 92,
   "id": "0a0660fc",
   "metadata": {},
   "outputs": [],
   "source": [
    "BATCH_SIZE = 64\n",
    "SHUFFLE_BUFFER_SIZE = 100\n",
    "\n",
    "train_dataset = train_dataset.shuffle(SHUFFLE_BUFFER_SIZE).batch(BATCH_SIZE)\n",
    "test_dataset = test_dataset.batch(BATCH_SIZE)"
   ]
  },
  {
   "cell_type": "code",
   "execution_count": 93,
   "id": "8e5e1bcc",
   "metadata": {},
   "outputs": [
    {
     "name": "stdout",
     "output_type": "stream",
     "text": [
      "Model: \"sequential_8\"\n",
      "_________________________________________________________________\n",
      "Layer (type)                 Output Shape              Param #   \n",
      "=================================================================\n",
      "dense_24 (Dense)             (None, None, 20)          80        \n",
      "_________________________________________________________________\n",
      "dense_25 (Dense)             (None, None, 16)          336       \n",
      "_________________________________________________________________\n",
      "dense_26 (Dense)             (None, None, 1)           17        \n",
      "=================================================================\n",
      "Total params: 433\n",
      "Trainable params: 433\n",
      "Non-trainable params: 0\n",
      "_________________________________________________________________\n"
     ]
    }
   ],
   "source": [
    "model = tf.keras.Sequential()\n",
    "model.add(tf.keras.layers.Dense(20, activation='relu', input_shape= (None,3)))\n",
    "model.add(tf.keras.layers.Dense(16, activation='relu'))\n",
    "model.add(tf.keras.layers.Dense(1,activation='sigmoid'))\n",
    "\n",
    "model.summary()"
   ]
  },
  {
   "cell_type": "code",
   "execution_count": 94,
   "id": "be30838e",
   "metadata": {},
   "outputs": [],
   "source": [
    "model.compile(optimizer='adam',\n",
    "              loss=tf.keras.losses.BinaryCrossentropy(from_logits=True),\n",
    "              metrics=['accuracy'])"
   ]
  },
  {
   "cell_type": "code",
   "execution_count": 95,
   "id": "2068419b",
   "metadata": {},
   "outputs": [
    {
     "name": "stdout",
     "output_type": "stream",
     "text": [
      "Epoch 1/20\n",
      "162/162 [==============================] - 1s 1ms/step - loss: 0.6924 - accuracy: 0.4572\n",
      "Epoch 2/20\n",
      "162/162 [==============================] - 0s 1ms/step - loss: 0.6821 - accuracy: 0.4522\n",
      "Epoch 3/20\n",
      "162/162 [==============================] - 0s 2ms/step - loss: 0.6795 - accuracy: 0.4819\n",
      "Epoch 4/20\n",
      "162/162 [==============================] - 0s 1ms/step - loss: 0.6765 - accuracy: 0.5297\n",
      "Epoch 5/20\n",
      "162/162 [==============================] - 0s 1ms/step - loss: 0.6749 - accuracy: 0.5464\n",
      "Epoch 6/20\n",
      "162/162 [==============================] - 0s 1ms/step - loss: 0.6741 - accuracy: 0.5509\n",
      "Epoch 7/20\n",
      "162/162 [==============================] - 0s 2ms/step - loss: 0.6738 - accuracy: 0.5541\n",
      "Epoch 8/20\n",
      "162/162 [==============================] - 0s 1ms/step - loss: 0.6735 - accuracy: 0.5578\n",
      "Epoch 9/20\n",
      "162/162 [==============================] - 0s 1ms/step - loss: 0.6728 - accuracy: 0.5624\n",
      "Epoch 10/20\n",
      "162/162 [==============================] - 0s 1ms/step - loss: 0.6727 - accuracy: 0.5586\n",
      "Epoch 11/20\n",
      "162/162 [==============================] - 0s 1ms/step - loss: 0.6726 - accuracy: 0.5640\n",
      "Epoch 12/20\n",
      "162/162 [==============================] - 0s 1ms/step - loss: 0.6726 - accuracy: 0.5641\n",
      "Epoch 13/20\n",
      "162/162 [==============================] - 0s 2ms/step - loss: 0.6725 - accuracy: 0.5672\n",
      "Epoch 14/20\n",
      "162/162 [==============================] - 0s 1ms/step - loss: 0.6725 - accuracy: 0.5669\n",
      "Epoch 15/20\n",
      "162/162 [==============================] - 0s 1ms/step - loss: 0.6725 - accuracy: 0.5633\n",
      "Epoch 16/20\n",
      "162/162 [==============================] - 0s 1ms/step - loss: 0.6722 - accuracy: 0.5694\n",
      "Epoch 17/20\n",
      "162/162 [==============================] - 0s 1ms/step - loss: 0.6722 - accuracy: 0.5699\n",
      "Epoch 18/20\n",
      "162/162 [==============================] - 0s 1ms/step - loss: 0.6721 - accuracy: 0.5714\n",
      "Epoch 19/20\n",
      "162/162 [==============================] - 0s 1ms/step - loss: 0.6720 - accuracy: 0.5748\n",
      "Epoch 20/20\n",
      "162/162 [==============================] - 0s 1ms/step - loss: 0.6720 - accuracy: 0.5719\n"
     ]
    }
   ],
   "source": [
    "history = model.fit(train_dataset,\n",
    "                    epochs=20,\n",
    "                    verbose=1)"
   ]
  },
  {
   "cell_type": "code",
   "execution_count": 96,
   "id": "7be86645",
   "metadata": {},
   "outputs": [
    {
     "name": "stdout",
     "output_type": "stream",
     "text": [
      "41/41 [==============================] - 0s 1ms/step - loss: 0.6667 - accuracy: 0.5899\n"
     ]
    },
    {
     "data": {
      "text/plain": [
       "[0.6667225360870361, 0.5898528099060059]"
      ]
     },
     "execution_count": 96,
     "metadata": {},
     "output_type": "execute_result"
    }
   ],
   "source": [
    "model.evaluate(test_dataset)"
   ]
  },
  {
   "cell_type": "code",
   "execution_count": null,
   "id": "fefd4345",
   "metadata": {},
   "outputs": [],
   "source": []
  }
 ],
 "metadata": {
  "kernelspec": {
   "display_name": "Python 3",
   "language": "python",
   "name": "python3"
  },
  "language_info": {
   "codemirror_mode": {
    "name": "ipython",
    "version": 3
   },
   "file_extension": ".py",
   "mimetype": "text/x-python",
   "name": "python",
   "nbconvert_exporter": "python",
   "pygments_lexer": "ipython3",
   "version": "3.6.13"
  }
 },
 "nbformat": 4,
 "nbformat_minor": 5
}
