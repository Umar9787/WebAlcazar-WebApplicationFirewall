{
 "cells": [
  {
   "cell_type": "code",
   "execution_count": 86,
   "id": "1a8d3530",
   "metadata": {},
   "outputs": [],
   "source": [
    "import pandas as pd\n",
    "import numpy as np\n",
    "import tensorflow_hub as hub\n",
    "# import tensorflow_datasets as tfds\n",
    "import tensorflow as tf\n",
    "from sklearn.utils import shuffle\n",
    "from sklearn import preprocessing , neighbors ,svm\n",
    "from sklearn.preprocessing import LabelEncoder, StandardScaler\n",
    "from sklearn.model_selection import train_test_split"
   ]
  },
  {
   "cell_type": "code",
   "execution_count": 87,
   "id": "84729015",
   "metadata": {},
   "outputs": [],
   "source": [
    "xss = pd.read_csv('XSSDataSets/XSSTesting.csv')"
   ]
  },
  {
   "cell_type": "code",
   "execution_count": 88,
   "id": "081b5471",
   "metadata": {},
   "outputs": [
    {
     "data": {
      "text/plain": [
       "<bound method NDFrame.head of        Contains &lt  ScripTag  Readable  Contains \"><  Contains '><  \\\n",
       "0                 0         1         0             0             0   \n",
       "1                 0         1         0             0             0   \n",
       "2                 0         0         1             0             0   \n",
       "3                 0         1         1             0             0   \n",
       "4                 0         1         0             0             0   \n",
       "...             ...       ...       ...           ...           ...   \n",
       "24091             0         0         1             0             0   \n",
       "24092             0         0         1             0             0   \n",
       "24093             0         0         1             0             0   \n",
       "24094             0         0         1             0             0   \n",
       "24095             0         0         1             0             0   \n",
       "\n",
       "       Contains And  Contains Percentage  Contains Slash  Contains BackSlash  \\\n",
       "0                 0                    1               1                   0   \n",
       "1                 1                    1               1                   0   \n",
       "2                 1                    1               1                   0   \n",
       "3                 1                    1               1                   1   \n",
       "4                 1                    1               1                   0   \n",
       "...             ...                  ...             ...                 ...   \n",
       "24091             0                    0               0                   0   \n",
       "24092             0                    0               0                   0   \n",
       "24093             0                    1               0                   0   \n",
       "24094             0                    0               0                   0   \n",
       "24095             0                    0               0                   0   \n",
       "\n",
       "       Contains Plus  ...  Contains Duble Slash  Contains Vertical Bar  \\\n",
       "0                  0  ...                     1                      0   \n",
       "1                  0  ...                     1                      0   \n",
       "2                  0  ...                     1                      0   \n",
       "3                  0  ...                     1                      0   \n",
       "4                  0  ...                     1                      0   \n",
       "...              ...  ...                   ...                    ...   \n",
       "24091              0  ...                     0                      0   \n",
       "24092              0  ...                     0                      0   \n",
       "24093              0  ...                     0                      0   \n",
       "24094              0  ...                     0                      0   \n",
       "24095              0  ...                     0                      0   \n",
       "\n",
       "       Contains Power  Contains Broken Bar  Contains Alert  \\\n",
       "0                   0                    0               1   \n",
       "1                   0                    0               1   \n",
       "2                   0                    0               0   \n",
       "3                   0                    0               1   \n",
       "4                   0                    0               1   \n",
       "...               ...                  ...             ...   \n",
       "24091               0                    0               0   \n",
       "24092               0                    0               0   \n",
       "24093               0                    0               0   \n",
       "24094               0                    0               0   \n",
       "24095               0                    0               0   \n",
       "\n",
       "       Contains Break Line  Letters Ratio  Numbuers Ratio  Symbols Ratio  \\\n",
       "0                        1           0.68            0.11         0.2069   \n",
       "1                        1           0.70            0.08         0.2242   \n",
       "2                        1           0.76            0.05         0.1849   \n",
       "3                        1           0.75            0.02         0.2285   \n",
       "4                        1           0.70            0.08         0.2242   \n",
       "...                    ...            ...             ...            ...   \n",
       "24091                    0           0.75            0.00         0.2500   \n",
       "24092                    0           0.78            0.00         0.2126   \n",
       "24093                    0           0.80            0.00         0.2024   \n",
       "24094                    0           0.77            0.01         0.2222   \n",
       "24095                    0           0.80            0.00         0.2024   \n",
       "\n",
       "           Class  \n",
       "0      Malicious  \n",
       "1      Malicious  \n",
       "2      Malicious  \n",
       "3      Malicious  \n",
       "4      Malicious  \n",
       "...          ...  \n",
       "24091     Benign  \n",
       "24092     Benign  \n",
       "24093     Benign  \n",
       "24094     Benign  \n",
       "24095     Benign  \n",
       "\n",
       "[24096 rows x 66 columns]>"
      ]
     },
     "execution_count": 88,
     "metadata": {},
     "output_type": "execute_result"
    }
   ],
   "source": [
    "xss.head\n"
   ]
  },
  {
   "cell_type": "code",
   "execution_count": 89,
   "id": "2e7f8108",
   "metadata": {},
   "outputs": [
    {
     "name": "stdout",
     "output_type": "stream",
     "text": [
      "The  Class is encoded \n"
     ]
    }
   ],
   "source": [
    "def scale_data(df, column_list):\n",
    "    for column in column_list:\n",
    "        df[column] = df[column].astype('float')\n",
    "        encoder = preprocessing.StandardScaler()\n",
    "        df[column] = encoder.fit_transform(df[column].values.reshape(-1,1))\n",
    "        print(\"The \",column, \"is encoded\")\n",
    "    return(df)\n",
    "  \n",
    "def encode_categorical(df, column_list):\n",
    "    for column in column_list:\n",
    "        df[column] = df[column].astype('str')\n",
    "        encoder = preprocessing.LabelEncoder()\n",
    "        encoded_list = encoder.fit_transform(df[column])\n",
    "#         print(encoded_list)\n",
    "#         print(len(encoded_list))\n",
    "        encoded_series = pd.Series(encoded_list)\n",
    "        df[column] = encoded_series\n",
    "        print(\"The \", column, \"is encoded \")\n",
    "    return(df)\n",
    "\n",
    "df = encode_categorical(xss,['Class'])"
   ]
  },
  {
   "cell_type": "code",
   "execution_count": 90,
   "id": "0754dfee",
   "metadata": {},
   "outputs": [
    {
     "name": "stdout",
     "output_type": "stream",
     "text": [
      "24096\n",
      "[1 1 1 ... 0 0 0]\n"
     ]
    }
   ],
   "source": [
    "X = np.array(xss.drop(labels=['Class'],axis=1)).reshape(len(xss),1,65)\n",
    "print(len(X))\n",
    "\n",
    "y = np.array(df['Class'])\n",
    "print(y)"
   ]
  },
  {
   "cell_type": "code",
   "execution_count": 91,
   "id": "b36c6b54",
   "metadata": {},
   "outputs": [],
   "source": [
    "X_train, X_test, y_train, y_test = train_test_split(X, y, test_size=0.2, random_state=42)\n"
   ]
  },
  {
   "cell_type": "code",
   "execution_count": 92,
   "id": "d6b6ed83",
   "metadata": {},
   "outputs": [],
   "source": [
    "train_dataset = tf.data.Dataset.from_tensor_slices((X_train, y_train))\n",
    "test_dataset = tf.data.Dataset.from_tensor_slices((X_test, y_test))"
   ]
  },
  {
   "cell_type": "code",
   "execution_count": 93,
   "id": "a2f7ac7d",
   "metadata": {},
   "outputs": [],
   "source": [
    "BATCH_SIZE = 64\n",
    "SHUFFLE_BUFFER_SIZE = 100\n",
    "\n",
    "train_dataset = train_dataset.shuffle(SHUFFLE_BUFFER_SIZE).batch(BATCH_SIZE)\n",
    "test_dataset = test_dataset.batch(BATCH_SIZE)"
   ]
  },
  {
   "cell_type": "code",
   "execution_count": 94,
   "id": "b75947c7",
   "metadata": {},
   "outputs": [
    {
     "name": "stdout",
     "output_type": "stream",
     "text": [
      "Model: \"sequential_4\"\n",
      "_________________________________________________________________\n",
      "Layer (type)                 Output Shape              Param #   \n",
      "=================================================================\n",
      "dense_12 (Dense)             (None, None, 20)          1320      \n",
      "_________________________________________________________________\n",
      "dense_13 (Dense)             (None, None, 16)          336       \n",
      "_________________________________________________________________\n",
      "dense_14 (Dense)             (None, None, 1)           17        \n",
      "=================================================================\n",
      "Total params: 1,673\n",
      "Trainable params: 1,673\n",
      "Non-trainable params: 0\n",
      "_________________________________________________________________\n"
     ]
    }
   ],
   "source": [
    "model = tf.keras.Sequential()\n",
    "model.add(tf.keras.layers.Dense(20, activation='relu', input_shape= (None,65)))\n",
    "model.add(tf.keras.layers.Dense(16, activation='relu'))\n",
    "model.add(tf.keras.layers.Dense(1,activation='sigmoid'))\n",
    "\n",
    "model.summary()"
   ]
  },
  {
   "cell_type": "code",
   "execution_count": 95,
   "id": "11e96fa5",
   "metadata": {},
   "outputs": [],
   "source": [
    "model.compile(optimizer='adam',\n",
    "              loss=tf.keras.losses.BinaryCrossentropy(from_logits=True),\n",
    "              metrics=['accuracy'])"
   ]
  },
  {
   "cell_type": "code",
   "execution_count": 96,
   "id": "bcb295c3",
   "metadata": {},
   "outputs": [
    {
     "name": "stdout",
     "output_type": "stream",
     "text": [
      "Epoch 1/20\n",
      "302/302 [==============================] - 1s 1ms/step - loss: 0.5769 - accuracy: 0.9535: 0s - loss: 0.5889 - accuracy: 0.\n",
      "Epoch 2/20\n",
      "302/302 [==============================] - 0s 1ms/step - loss: 0.5386 - accuracy: 0.9941\n",
      "Epoch 3/20\n",
      "302/302 [==============================] - 0s 1ms/step - loss: 0.5369 - accuracy: 0.9985\n",
      "Epoch 4/20\n",
      "302/302 [==============================] - 1s 2ms/step - loss: 0.5364 - accuracy: 0.9993\n",
      "Epoch 5/20\n",
      "302/302 [==============================] - 0s 1ms/step - loss: 0.5362 - accuracy: 0.9993: 0s - loss: 0.5360 - accuracy: 0.\n",
      "Epoch 6/20\n",
      "302/302 [==============================] - 0s 1ms/step - loss: 0.5362 - accuracy: 0.9997\n",
      "Epoch 7/20\n",
      "302/302 [==============================] - 0s 1ms/step - loss: 0.5361 - accuracy: 0.9997\n",
      "Epoch 8/20\n",
      "302/302 [==============================] - 0s 1ms/step - loss: 0.5361 - accuracy: 0.9997\n",
      "Epoch 9/20\n",
      "302/302 [==============================] - 0s 1ms/step - loss: 0.5361 - accuracy: 0.9997\n",
      "Epoch 10/20\n",
      "302/302 [==============================] - 0s 1ms/step - loss: 0.5361 - accuracy: 0.9997\n",
      "Epoch 11/20\n",
      "302/302 [==============================] - 0s 1ms/step - loss: 0.5360 - accuracy: 0.9997\n",
      "Epoch 12/20\n",
      "302/302 [==============================] - 0s 2ms/step - loss: 0.5360 - accuracy: 0.9997\n",
      "Epoch 13/20\n",
      "302/302 [==============================] - 0s 1ms/step - loss: 0.5360 - accuracy: 0.9997\n",
      "Epoch 14/20\n",
      "302/302 [==============================] - 0s 1ms/step - loss: 0.5360 - accuracy: 0.9997\n",
      "Epoch 15/20\n",
      "302/302 [==============================] - 0s 1ms/step - loss: 0.5360 - accuracy: 0.9997\n",
      "Epoch 16/20\n",
      "302/302 [==============================] - 0s 1ms/step - loss: 0.5360 - accuracy: 0.9997: 0s - loss: 0.5353 - accuracy\n",
      "Epoch 17/20\n",
      "302/302 [==============================] - 0s 1ms/step - loss: 0.5360 - accuracy: 0.9997\n",
      "Epoch 18/20\n",
      "302/302 [==============================] - 0s 1ms/step - loss: 0.5360 - accuracy: 0.9998\n",
      "Epoch 19/20\n",
      "302/302 [==============================] - 0s 1ms/step - loss: 0.5360 - accuracy: 0.9998\n",
      "Epoch 20/20\n",
      "302/302 [==============================] - 0s 1ms/step - loss: 0.5360 - accuracy: 0.9998\n"
     ]
    }
   ],
   "source": [
    "history = model.fit(train_dataset,\n",
    "                    epochs=20,\n",
    "                    verbose=1)"
   ]
  },
  {
   "cell_type": "code",
   "execution_count": 104,
   "id": "703b5a19",
   "metadata": {},
   "outputs": [
    {
     "name": "stdout",
     "output_type": "stream",
     "text": [
      "76/76 [==============================] - 0s 1ms/step - loss: 0.5343 - accuracy: 0.9990\n"
     ]
    }
   ],
   "source": [
    "model.evaluate(test_dataset)\n",
    "\n",
    "model.save(\"xss.h5\")"
   ]
  },
  {
   "cell_type": "code",
   "execution_count": 105,
   "id": "5e016e81",
   "metadata": {},
   "outputs": [],
   "source": [
    "def cal_keyword(eval_string,comparison_s):\n",
    "    for i in range(0,len(eval_string)):\n",
    "        if i+len(comparison_s)<len(eval_string):\n",
    "            if eval_string[i]==comparison_s[0]:\n",
    "                \n",
    "                j = i\n",
    "               \n",
    "                for q in range(0,len(comparison_s)):\n",
    "                    if eval_string[j]!=comparison_s[q]:\n",
    "                        break\n",
    "                    \n",
    "                    j+=1\n",
    "                   \n",
    "                if (j-i)==len(comparison_s):\n",
    "                    return 1.0\n",
    "    \n",
    "    return 0.0\n",
    "def letter_ratio(eval_s):\n",
    "    count = 0.0\n",
    "    for i in range(0,len(eval_s)):\n",
    "        if ord(eval_s[i].lower()) > 96 and ord(eval_s[i].lower()) < 123:\n",
    "            count+=1.0\n",
    "    return count / len(eval_s)\n",
    "def number_ratio(eval_s):\n",
    "    count = 0.0\n",
    "    for i in range(0,len(eval_s)):\n",
    "        if ord(eval_s[i].lower()) > 47 and ord(eval_s[i].lower()) < 58:\n",
    "            count+=1.0\n",
    "    return count / len(eval_s)\n",
    "def symbol_ratio(eval_s):\n",
    "    count = 0.0\n",
    "    for i in range(0,len(eval_s)):\n",
    "        if ord(eval_s[i].lower()) > 32 and ord(eval_s[i].lower()) < 48:\n",
    "            count+=1.0\n",
    "        if ord(eval_s[i].lower()) > 37 and ord(eval_s[i].lower()) < 65:\n",
    "            count+=1.0\n",
    "        if ord(eval_s[i].lower()) > 90 and ord(eval_s[i].lower()) < 97:\n",
    "            count+=1.0\n",
    "        if ord(eval_s[i].lower()) > 122 and ord(eval_s[i].lower()) < 127:\n",
    "            count+=1.0\n",
    "    return count / len(eval_s)"
   ]
  },
  {
   "cell_type": "code",
   "execution_count": 132,
   "id": "de18a6fd",
   "metadata": {
    "scrolled": true
   },
   "outputs": [
    {
     "name": "stdout",
     "output_type": "stream",
     "text": [
      "0.99551344\n"
     ]
    }
   ],
   "source": [
    "evaluation_string=\"<video src=1 href=1 onerror=\\\"javascript:alert(1)\\\"></video>\"\n",
    "new_model=tf.keras.models.load_model(\"xss.h5\")\n",
    "payload={}\n",
    "payload['Contains &lt']= cal_keyword(evaluation_string,\"&lt\")\n",
    "payload['ScriptTag']=cal_keyword(evaluation_string,\"script\")\n",
    "payload['Readable']=1\n",
    "payload['Contains \"><']=cal_keyword(evaluation_string,\"\\\"><\")\n",
    "payload['Contains \\'><']=cal_keyword(evaluation_string,\"\\'><\")\n",
    "payload['Contains And']=cal_keyword(evaluation_string,\"&\")\n",
    "payload['Contains Percentage']=cal_keyword(evaluation_string,\"%\")\n",
    "payload['Contains Slash']=cal_keyword(evaluation_string,\"/\")\n",
    "payload['Contains BackSlash']=cal_keyword(evaluation_string,\"\\\\\")\n",
    "payload['Contains Plus']=cal_keyword(evaluation_string,\"+\")\n",
    "payload['Contains Document']=cal_keyword(evaluation_string,\"document\")\n",
    "payload['Contains Window']=cal_keyword(evaluation_string,\"window\")\n",
    "payload['Contains Onload']=cal_keyword(evaluation_string,\"onload\")\n",
    "payload['Contains Onerror']=cal_keyword(evaluation_string,\"onerror\")\n",
    "payload['Contains DIV']=cal_keyword(evaluation_string,\"div\")\n",
    "payload['Contains iframe']=cal_keyword(evaluation_string,\"iframe\")\n",
    "payload['Contains img']=cal_keyword(evaluation_string,\"img\")\n",
    "payload['Contains SRC']=cal_keyword(evaluation_string,\"src\")\n",
    "payload['Contains Var']=cal_keyword(evaluation_string,\"var\")\n",
    "payload['Contains Eval']=cal_keyword(evaluation_string,\"eval\")\n",
    "payload['Contains href']=cal_keyword(evaluation_string,\"href\")\n",
    "payload['Contains Cookie']=cal_keyword(evaluation_string,\"cookie\")\n",
    "payload['Contains StringfromCharCode']=cal_keyword(evaluation_string,\"string.fromcharcode\")\n",
    "payload['Contains Single Quote']=cal_keyword(evaluation_string,\"'\")\n",
    "payload['Contains Question Mark']=cal_keyword(evaluation_string,\"?\")\n",
    "payload['Contains Exclamation Mark']=cal_keyword(evaluation_string,\"!\")\n",
    "payload['Contains Semicolon']=cal_keyword(evaluation_string,\";\")\n",
    "payload['Contains HTTP']=cal_keyword(evaluation_string,\"http\")\n",
    "payload['Contains JS']=cal_keyword(evaluation_string,\"jsp\")\n",
    "payload['Contains Hash']=cal_keyword(evaluation_string,\"#\")\n",
    "payload['Contains Equal']=cal_keyword(evaluation_string,\"=\")\n",
    "payload['Contains Open Bracket']=cal_keyword(evaluation_string,\"[\")\n",
    "payload['Contains Close Bracket']=cal_keyword(evaluation_string,\"]\")\n",
    "payload['Contains Duble Bracket']=cal_keyword(evaluation_string,\"[\") * cal_keyword(evaluation_string,\"]\")\n",
    "payload['Contains Dollar']=cal_keyword(evaluation_string,\"$\")\n",
    "payload['Contains Open Parenthesis']=cal_keyword(evaluation_string,\"(\")\n",
    "payload['Contains Close Parenthesis']=cal_keyword(evaluation_string,\"(\")\n",
    "payload['Contains Asterik']=cal_keyword(evaluation_string,\"*\")\n",
    "payload['Contains Comma']=cal_keyword(evaluation_string,\",\")\n",
    "payload['Contains Hyphen']=cal_keyword(evaluation_string,\"-\")\n",
    "payload['Contains Less Than']=cal_keyword(evaluation_string,\"<\")\n",
    "payload['Contains Greater Than']=cal_keyword(evaluation_string,\">\")\n",
    "payload['Contains At']=cal_keyword(evaluation_string,\"@\")\n",
    "payload['Contains Underscore']=cal_keyword(evaluation_string,\"_\")\n",
    "payload['Contains Location']=cal_keyword(evaluation_string,\"location\")\n",
    "payload['Contains Search']=cal_keyword(evaluation_string,\"search\")\n",
    "payload['Contains &#']=cal_keyword(evaluation_string,\"&#\")\n",
    "payload['Contains Colon']=cal_keyword(evaluation_string,\":\")\n",
    "payload['Contains Dots']=cal_keyword(evaluation_string,\".\")\n",
    "payload['Contains Open Brace']=cal_keyword(evaluation_string,\"{\")\n",
    "payload['Contains Close Brace']=cal_keyword(evaluation_string,\"}\")\n",
    "payload['Contains tilde']=cal_keyword(evaluation_string,\"~\")\n",
    "payload['Contains Spase']=cal_keyword(evaluation_string,\" \")\n",
    "payload['Contains Qution']=cal_keyword(evaluation_string,\"\\\"\")\n",
    "payload['Contains Grave']=0\n",
    "payload['Contains Duble Equals']=cal_keyword(evaluation_string,\"==\")\n",
    "payload['Contains Duble Slash']=cal_keyword(evaluation_string,\"//\")\n",
    "payload['Contains Vertical Bar']=cal_keyword(evaluation_string,\"|\")\n",
    "payload['Contains Power']=cal_keyword(evaluation_string,\"^\")\n",
    "payload['Contains Broken Bar']=cal_keyword(evaluation_string,\"¦\")\n",
    "payload['Contains Alert']=cal_keyword(evaluation_string,\"alert\")\n",
    "payload['Contains Break Line']=cal_keyword(evaluation_string,\"br\")\n",
    "payload['Letters Ratio']=format_float = \"{:.2f}\".format(letter_ratio(evaluation_string))\n",
    "payload['Numbuer Ratio']=format_float = \"{:.2f}\".format(number_ratio(evaluation_string))\n",
    "payload['Symbols Ratio']=format_float = \"{:.2f}\".format(symbol_ratio(evaluation_string))\n",
    "payload['Class']=0\n",
    "payload=pd.DataFrame([payload])\n",
    "payload.head\n",
    "X = np.asarray(payload.drop(labels=['Class'],axis=1)).reshape(len(payload),1,65).astype('float32')\n",
    "\n",
    "y = np.asarray(payload['Class']).astype('float32')\n",
    "\n",
    "\n",
    "test_payload = tf.data.Dataset.from_tensor_slices((X, y))\n",
    "test_payload = test_payload.batch(BATCH_SIZE)\n",
    "pred = new_model.predict(test_payload)[0][0][0]\n",
    "print(pred)\n",
    "\n",
    "\n"
   ]
  },
  {
   "cell_type": "code",
   "execution_count": null,
   "id": "d168a2e9",
   "metadata": {},
   "outputs": [],
   "source": []
  },
  {
   "cell_type": "code",
   "execution_count": null,
   "id": "35e29415",
   "metadata": {},
   "outputs": [],
   "source": []
  }
 ],
 "metadata": {
  "kernelspec": {
   "display_name": "Python 3",
   "language": "python",
   "name": "python3"
  },
  "language_info": {
   "codemirror_mode": {
    "name": "ipython",
    "version": 3
   },
   "file_extension": ".py",
   "mimetype": "text/x-python",
   "name": "python",
   "nbconvert_exporter": "python",
   "pygments_lexer": "ipython3",
   "version": "3.6.13"
  }
 },
 "nbformat": 4,
 "nbformat_minor": 5
}
